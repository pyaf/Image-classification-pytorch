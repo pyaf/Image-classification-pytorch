{
 "cells": [
  {
   "cell_type": "code",
   "execution_count": null,
   "metadata": {
    "ExecuteTime": {
     "end_time": "2019-07-07T12:54:39.549856Z",
     "start_time": "2019-07-07T12:54:39.524137Z"
    }
   },
   "outputs": [],
   "source": [
    "import sys\n",
    "sys.path.append('../')\n",
    "from tqdm import tqdm\n",
    "import matplotlib.pyplot as plt\n",
    "import matplotlib.image as mpimg\n",
    "import pandas as pd\n",
    "import cv2\n",
    "import random\n",
    "import numpy as np\n",
    "from utils import *\n",
    "%matplotlib inline"
   ]
  },
  {
   "cell_type": "code",
   "execution_count": null,
   "metadata": {
    "ExecuteTime": {
     "end_time": "2019-07-07T12:49:38.334028Z",
     "start_time": "2019-07-07T12:49:38.219650Z"
    }
   },
   "outputs": [],
   "source": [
    "!ls ../data"
   ]
  },
  {
   "cell_type": "code",
   "execution_count": null,
   "metadata": {
    "ExecuteTime": {
     "end_time": "2019-07-07T12:51:01.528353Z",
     "start_time": "2019-07-07T12:51:01.523607Z"
    }
   },
   "outputs": [],
   "source": [
    "train_df = pd.read_csv('../data/train.csv')\n",
    "mkdir('../data/train_images/npy/')"
   ]
  },
  {
   "cell_type": "code",
   "execution_count": null,
   "metadata": {
    "ExecuteTime": {
     "end_time": "2019-07-07T12:51:02.058628Z",
     "start_time": "2019-07-07T12:51:01.989773Z"
    }
   },
   "outputs": [],
   "source": [
    "train_df.head()"
   ]
  },
  {
   "cell_type": "code",
   "execution_count": null,
   "metadata": {
    "ExecuteTime": {
     "end_time": "2019-07-07T12:57:47.202687Z",
     "start_time": "2019-07-07T12:57:47.198805Z"
    }
   },
   "outputs": [],
   "source": [
    "names = train_df.id_code.values\n",
    "images_folder = '../data/train_images/'\n",
    "IMG_SIZE = 224"
   ]
  },
  {
   "cell_type": "code",
   "execution_count": null,
   "metadata": {
    "ExecuteTime": {
     "end_time": "2019-07-07T13:09:31.917863Z",
     "start_time": "2019-07-07T13:09:09.361925Z"
    }
   },
   "outputs": [],
   "source": [
    "for idx in tqdm(range(len(train_df))):\n",
    "    fname = names[idx]\n",
    "    img_path = os.path.join(images_folder, fname + \".png\")\n",
    "    image = cv2.imread(img_path)\n",
    "    # image = cv2.cvtColor(image, cv2.COLOR_BGR2RGB)\n",
    "    image = cv2.cvtColor(image, cv2.COLOR_BGR2GRAY)\n",
    "    image = cv2.resize(image, (IMG_SIZE, IMG_SIZE))\n",
    "    image = cv2.addWeighted(\n",
    "       image, 4, cv2.GaussianBlur(image, (0, 0), IMG_SIZE / 10), -4, 128\n",
    "    )  # Ben Graham's preprocessing method [1]\n",
    "\n",
    "    ## (IMG_SIZE, IMG_SIZE) -> (IMG_SIZE, IMG_SIZE, 3)\n",
    "    #IMG_SIZE1, IMG_SIZE2 = image.shape  \n",
    "    image = image.reshape(IMG_SIZE, IMG_SIZE, 1)\n",
    "    image = np.repeat(image, 3, axis=-1)\n",
    "    #np.save(os.path.join(image_folder, 'npy', fname + '.npy'), image)"
   ]
  },
  {
   "cell_type": "code",
   "execution_count": null,
   "metadata": {
    "ExecuteTime": {
     "end_time": "2019-07-07T13:08:56.915244Z",
     "start_time": "2019-07-07T13:08:56.912879Z"
    }
   },
   "outputs": [],
   "source": [
    "image.dtype"
   ]
  },
  {
   "cell_type": "code",
   "execution_count": null,
   "metadata": {},
   "outputs": [],
   "source": []
  }
 ],
 "metadata": {
  "kernelspec": {
   "display_name": "ML",
   "language": "python",
   "name": "ml"
  },
  "language_info": {
   "codemirror_mode": {
    "name": "ipython",
    "version": 3
   },
   "file_extension": ".py",
   "mimetype": "text/x-python",
   "name": "python",
   "nbconvert_exporter": "python",
   "pygments_lexer": "ipython3",
   "version": "3.7.3"
  }
 },
 "nbformat": 4,
 "nbformat_minor": 2
}
