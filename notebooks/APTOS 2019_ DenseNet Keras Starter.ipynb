{
 "cells": [
  {
   "cell_type": "markdown",
   "metadata": {},
   "source": [
    "In this kernel, we will explore the complete workflow for the APTOS 2019 competition. We will go through:\n",
    "\n",
    "1. Loading & Exploration: A quick overview of the dataset\n",
    "2. Resize Images: We will resize both the training and test images to 224x224, so that it matches the ImageNet format.\n",
    "3. Mixup & Data Generator: We show how to create a data generator that will perform random transformation to our datasets (flip vertically/horizontally, rotation, zooming). This will help our model generalize better to the data, since it is fairly small (only ~3000 images).\n",
    "4. Quadratic Weighted Kappa: A thorough overview of the metric used for this competition, with an intuitive example. Check it out!\n",
    "5. Model: We will use a DenseNet-121 pre-trained on ImageNet. We will finetune it using Adam for 15 epochs, and evaluate it on an unseen validation set.\n",
    "6. Training & Evaluation: We take a look at the change in loss and QWK score through the epochs.\n",
    "\n",
    "### Citations & Resources\n",
    "\n",
    "* I had the idea of using mixup from [KeepLearning's ResNet50 baseline](https://www.kaggle.com/mathormad/aptos-resnet50-baseline). Since the implementation was in PyTorch, I instead used an [open-sourced keras implementation](https://github.com/yu4u/mixup-generator).\n",
    "* The transfer learning procedure is mostly inspired from my [previous kernel for iWildCam](https://www.kaggle.com/xhlulu/densenet-transfer-learning-iwildcam-2019). The workflow was however heavily modified since then.\n",
    "* Used similar [method as Abhishek](https://www.kaggle.com/abhishek/optimizer-for-quadratic-weighted-kappa) to find the optimal threshold.\n",
    "* [Lex's kernel](https://www.kaggle.com/lextoumbourou/blindness-detection-resnet34-ordinal-targets) prompted me to try using Multilabel instead of multiclass classification, which slightly improved the kappa score."
   ]
  },
  {
   "cell_type": "code",
   "execution_count": 11,
   "metadata": {
    "ExecuteTime": {
     "end_time": "2019-07-15T15:51:00.016358Z",
     "start_time": "2019-07-15T15:50:59.982062Z"
    },
    "_cell_guid": "b1076dfc-b9ad-4769-8c92-a6c4dae69d19",
    "_uuid": "8f2839f25d086af736a60e9eeb907d3b93b6e0e5"
   },
   "outputs": [],
   "source": [
    "import json\n",
    "import math\n",
    "import os\n",
    "\n",
    "import cv2\n",
    "from PIL import Image\n",
    "import numpy as np\n",
    "import tensorflow as tf\n",
    "\n",
    "config = tf.ConfigProto()\n",
    "config.gpu_options.allow_growth=True\n",
    "sess = tf.Session(config=config)\n",
    "\n",
    "from keras import layers\n",
    "from keras.applications import *\n",
    "from keras.callbacks import Callback, ModelCheckpoint\n",
    "from keras.preprocessing.image import ImageDataGenerator\n",
    "from keras.models import Sequential\n",
    "from keras.optimizers import Adam\n",
    "import matplotlib.pyplot as plt\n",
    "import pandas as pd\n",
    "from sklearn.model_selection import train_test_split\n",
    "from sklearn.metrics import cohen_kappa_score, accuracy_score\n",
    "from sklearn.preprocessing import StandardScaler\n",
    "import scipy\n",
    "from tqdm import tqdm\n",
    "import warnings\n",
    "warnings.filterwarnings(\"ignore\")\n",
    "\n",
    "\n",
    "%matplotlib inline"
   ]
  },
  {
   "cell_type": "markdown",
   "metadata": {},
   "source": [
    "# Loading & Exploration"
   ]
  },
  {
   "cell_type": "code",
   "execution_count": 6,
   "metadata": {
    "ExecuteTime": {
     "end_time": "2019-07-15T15:43:27.371848Z",
     "start_time": "2019-07-15T15:43:27.331549Z"
    }
   },
   "outputs": [
    {
     "name": "stdout",
     "output_type": "stream",
     "text": [
      "(3662, 2)\n",
      "(1928, 1)\n",
      "(3662, 8) (1928, 7)\n"
     ]
    }
   ],
   "source": [
    "train_df = pd.read_csv('../data/train.csv')\n",
    "test_df = pd.read_csv('../data/test.csv')\n",
    "train_meta = pd.read_csv('../data/train_meta.csv')\n",
    "test_meta = pd.read_csv('../data/test_meta.csv')\n",
    "print(train_df.shape)\n",
    "print(test_df.shape)\n",
    "print(train_meta.shape, test_meta.shape)"
   ]
  },
  {
   "cell_type": "code",
   "execution_count": 7,
   "metadata": {
    "ExecuteTime": {
     "end_time": "2019-07-15T15:43:39.774402Z",
     "start_time": "2019-07-15T15:43:39.756454Z"
    }
   },
   "outputs": [
    {
     "data": {
      "text/html": [
       "<div>\n",
       "<style scoped>\n",
       "    .dataframe tbody tr th:only-of-type {\n",
       "        vertical-align: middle;\n",
       "    }\n",
       "\n",
       "    .dataframe tbody tr th {\n",
       "        vertical-align: top;\n",
       "    }\n",
       "\n",
       "    .dataframe thead th {\n",
       "        text-align: right;\n",
       "    }\n",
       "</style>\n",
       "<table border=\"1\" class=\"dataframe\">\n",
       "  <thead>\n",
       "    <tr style=\"text-align: right;\">\n",
       "      <th></th>\n",
       "      <th>id_code</th>\n",
       "      <th>diagnosis</th>\n",
       "      <th>image_shape</th>\n",
       "      <th>image_size</th>\n",
       "      <th>height</th>\n",
       "      <th>width</th>\n",
       "      <th>width_height_ratio</th>\n",
       "      <th>width_height_added</th>\n",
       "    </tr>\n",
       "  </thead>\n",
       "  <tbody>\n",
       "    <tr>\n",
       "      <th>0</th>\n",
       "      <td>000c1434d8d7</td>\n",
       "      <td>2</td>\n",
       "      <td>(2136, 3216, 3)</td>\n",
       "      <td>3218676</td>\n",
       "      <td>2136</td>\n",
       "      <td>3216</td>\n",
       "      <td>0.664179</td>\n",
       "      <td>5352</td>\n",
       "    </tr>\n",
       "    <tr>\n",
       "      <th>1</th>\n",
       "      <td>001639a390f0</td>\n",
       "      <td>4</td>\n",
       "      <td>(2136, 3216, 3)</td>\n",
       "      <td>2261129</td>\n",
       "      <td>2136</td>\n",
       "      <td>3216</td>\n",
       "      <td>0.664179</td>\n",
       "      <td>5352</td>\n",
       "    </tr>\n",
       "    <tr>\n",
       "      <th>2</th>\n",
       "      <td>0024cdab0c1e</td>\n",
       "      <td>1</td>\n",
       "      <td>(1736, 2416, 3)</td>\n",
       "      <td>1882172</td>\n",
       "      <td>1736</td>\n",
       "      <td>2416</td>\n",
       "      <td>0.718543</td>\n",
       "      <td>4152</td>\n",
       "    </tr>\n",
       "    <tr>\n",
       "      <th>3</th>\n",
       "      <td>002c21358ce6</td>\n",
       "      <td>0</td>\n",
       "      <td>(1050, 1050, 3)</td>\n",
       "      <td>975218</td>\n",
       "      <td>1050</td>\n",
       "      <td>1050</td>\n",
       "      <td>1.000000</td>\n",
       "      <td>2100</td>\n",
       "    </tr>\n",
       "    <tr>\n",
       "      <th>4</th>\n",
       "      <td>005b95c28852</td>\n",
       "      <td>0</td>\n",
       "      <td>(1536, 2048, 3)</td>\n",
       "      <td>1819430</td>\n",
       "      <td>1536</td>\n",
       "      <td>2048</td>\n",
       "      <td>0.750000</td>\n",
       "      <td>3584</td>\n",
       "    </tr>\n",
       "  </tbody>\n",
       "</table>\n",
       "</div>"
      ],
      "text/plain": [
       "        id_code  diagnosis      image_shape  image_size  height  width  \\\n",
       "0  000c1434d8d7          2  (2136, 3216, 3)     3218676    2136   3216   \n",
       "1  001639a390f0          4  (2136, 3216, 3)     2261129    2136   3216   \n",
       "2  0024cdab0c1e          1  (1736, 2416, 3)     1882172    1736   2416   \n",
       "3  002c21358ce6          0  (1050, 1050, 3)      975218    1050   1050   \n",
       "4  005b95c28852          0  (1536, 2048, 3)     1819430    1536   2048   \n",
       "\n",
       "   width_height_ratio  width_height_added  \n",
       "0            0.664179                5352  \n",
       "1            0.664179                5352  \n",
       "2            0.718543                4152  \n",
       "3            1.000000                2100  \n",
       "4            0.750000                3584  "
      ]
     },
     "execution_count": 7,
     "metadata": {},
     "output_type": "execute_result"
    }
   ],
   "source": [
    "train_meta.head()"
   ]
  },
  {
   "cell_type": "code",
   "execution_count": 9,
   "metadata": {
    "ExecuteTime": {
     "end_time": "2019-07-15T15:45:26.040329Z",
     "start_time": "2019-07-15T15:45:26.036406Z"
    }
   },
   "outputs": [],
   "source": [
    "m_train = train_meta[['image_size', 'height', 'width', 'width_height_ratio', 'width_height_added']].values\n",
    "m_test = test_meta[['image_size', 'height', 'width', 'width_height_ratio', 'width_height_added']].values"
   ]
  },
  {
   "cell_type": "code",
   "execution_count": 12,
   "metadata": {
    "ExecuteTime": {
     "end_time": "2019-07-15T15:52:47.593777Z",
     "start_time": "2019-07-15T15:52:47.586466Z"
    }
   },
   "outputs": [
    {
     "data": {
      "text/plain": [
       "StandardScaler(copy=True, with_mean=True, with_std=True)"
      ]
     },
     "execution_count": 12,
     "metadata": {},
     "output_type": "execute_result"
    }
   ],
   "source": [
    "SS = StandardScaler()\n",
    "SS.fit(m_train)"
   ]
  },
  {
   "cell_type": "code",
   "execution_count": 14,
   "metadata": {
    "ExecuteTime": {
     "end_time": "2019-07-15T15:53:51.348295Z",
     "start_time": "2019-07-15T15:53:51.304577Z"
    }
   },
   "outputs": [],
   "source": [
    "m_train = SS.transform(m_train)\n",
    "m_test = SS.transform(m_test)"
   ]
  },
  {
   "cell_type": "code",
   "execution_count": 4,
   "metadata": {
    "ExecuteTime": {
     "end_time": "2019-07-15T13:12:56.499761Z",
     "start_time": "2019-07-15T13:12:56.497053Z"
    }
   },
   "outputs": [],
   "source": [
    "def preprocess_image(image_path, desired_size=224):\n",
    "    im = Image.open(image_path)\n",
    "    im = im.resize((desired_size, )*2, resample=Image.LANCZOS)\n",
    "    return im"
   ]
  },
  {
   "cell_type": "code",
   "execution_count": 5,
   "metadata": {
    "ExecuteTime": {
     "end_time": "2019-07-15T13:13:23.119766Z",
     "start_time": "2019-07-15T13:13:23.101843Z"
    }
   },
   "outputs": [],
   "source": [
    "def load_ben_color(path, size, crop=False, sigmaX=10):\n",
    "    image = cv2.imread(path)\n",
    "    image = cv2.cvtColor(image, cv2.COLOR_BGR2RGB)\n",
    "    if crop:\n",
    "        image = crop_image_from_gray(image)\n",
    "    image = cv2.resize(image, (size, size))\n",
    "    image = cv2.addWeighted ( image,4, cv2.GaussianBlur( image , (0,0) , sigmaX) ,-4 ,128)\n",
    "    return image\n",
    "\n",
    "def load_ben_gray(path, size):\n",
    "    image = cv2.imread(path)\n",
    "    image = cv2.cvtColor(image, cv2.COLOR_BGR2GRAY)\n",
    "    image = cv2.resize(image, (size, size))\n",
    "    image = cv2.addWeighted(\n",
    "       image, 4, cv2.GaussianBlur(image, (0, 0), size / 10), -4, 128\n",
    "    )  # Ben Graham's preprocessing method [1]\n",
    "    ## (IMG_SIZE, IMG_SIZE) -> (IMG_SIZE, IMG_SIZE, 3)\n",
    "    image = image.reshape(size, size, 1)\n",
    "    image = np.repeat(image, 3, axis=-1)\n",
    "    return image\n",
    "\n",
    "def crop_image_from_gray(img,tol=7):\n",
    "    if img.ndim ==2:\n",
    "        mask = img>tol\n",
    "        return img[np.ix_(mask.any(1),mask.any(0))]\n",
    "    elif img.ndim==3:\n",
    "        gray_img = cv2.cvtColor(img, cv2.COLOR_RGB2GRAY)\n",
    "        mask = gray_img>tol\n",
    "        check_shape = img[:,:,0][np.ix_(mask.any(1),mask.any(0))].shape[0]\n",
    "        if (check_shape == 0): # image is too dark so that we crop out everything,\n",
    "            return img # return original image\n",
    "        else:\n",
    "            img1=img[:,:,0][np.ix_(mask.any(1),mask.any(0))]\n",
    "            img2=img[:,:,1][np.ix_(mask.any(1),mask.any(0))]\n",
    "            img3=img[:,:,2][np.ix_(mask.any(1),mask.any(0))]\n",
    "    #         print(img1.shape,img2.shape,img3.shape)\n",
    "            img = np.stack([img1,img2,img3],axis=-1)\n",
    "    #         print(img.shape)\n",
    "        return img"
   ]
  },
  {
   "cell_type": "code",
   "execution_count": 5,
   "metadata": {
    "ExecuteTime": {
     "end_time": "2019-07-13T06:05:20.935120Z",
     "start_time": "2019-07-13T06:05:19.951471Z"
    }
   },
   "outputs": [
    {
     "name": "stderr",
     "output_type": "stream",
     "text": [
      "100%|██████████| 3662/3662 [00:00<00:00, 3770.21it/s]\n"
     ]
    }
   ],
   "source": [
    "N = train_df.shape[0]\n",
    "x_train = np.empty((N, 224, 224, 3), dtype=np.uint8)\n",
    "\n",
    "for i, image_id in enumerate(tqdm(train_df['id_code'])):\n",
    "    x_train[i, :, :, :] = np.load(\n",
    "        f'../data/train_images/npy_bengrahm/{image_id}.npy'\n",
    "    )"
   ]
  },
  {
   "cell_type": "code",
   "execution_count": 6,
   "metadata": {
    "ExecuteTime": {
     "end_time": "2019-07-13T06:06:13.909524Z",
     "start_time": "2019-07-13T06:05:20.936143Z"
    }
   },
   "outputs": [
    {
     "name": "stderr",
     "output_type": "stream",
     "text": [
      "100%|██████████| 1928/1928 [00:52<00:00, 36.40it/s]\n"
     ]
    }
   ],
   "source": [
    "N = test_df.shape[0]\n",
    "x_test = np.empty((N, 224, 224, 3), dtype=np.uint8)\n",
    "\n",
    "for i, image_id in enumerate(tqdm(test_df['id_code'])):\n",
    "    x_test[i, :, :, :] = load_ben_gray(\n",
    "        f'../data/test_images/{image_id}.png', 224\n",
    "    )"
   ]
  },
  {
   "cell_type": "code",
   "execution_count": 7,
   "metadata": {
    "ExecuteTime": {
     "end_time": "2019-07-13T06:06:13.911991Z",
     "start_time": "2019-07-13T06:06:13.910562Z"
    }
   },
   "outputs": [],
   "source": [
    "#!mkdir ../data/npy_files\n",
    "#np.save('../data/npy_files/x_train.npy', x_train)"
   ]
  },
  {
   "cell_type": "code",
   "execution_count": 8,
   "metadata": {
    "ExecuteTime": {
     "end_time": "2019-07-13T06:06:13.924630Z",
     "start_time": "2019-07-13T06:06:13.913420Z"
    }
   },
   "outputs": [],
   "source": [
    "#x_train = np.load('../data/npy_files/x_train.npy')\n",
    "#x_test = np.load('../data/npy_files/x_test.npy')"
   ]
  },
  {
   "cell_type": "code",
   "execution_count": 9,
   "metadata": {
    "ExecuteTime": {
     "end_time": "2019-07-13T06:06:13.936566Z",
     "start_time": "2019-07-13T06:06:13.925685Z"
    }
   },
   "outputs": [
    {
     "name": "stdout",
     "output_type": "stream",
     "text": [
      "(3662, 224, 224, 3)\n",
      "(3662, 5)\n",
      "(1928, 224, 224, 3)\n"
     ]
    }
   ],
   "source": [
    "y_train = pd.get_dummies(train_df['diagnosis']).values\n",
    "print(x_train.shape)\n",
    "print(y_train.shape)\n",
    "print(x_test.shape)"
   ]
  },
  {
   "cell_type": "markdown",
   "metadata": {},
   "source": [
    "## Creating multilabels\n",
    "\n",
    "Instead of predicting a single label, we will change our target to be a multilabel problem; i.e., if the target is a certain class, then it encompasses all the classes before it. E.g. encoding a class 4 retinopathy would usually be `[0, 0, 0, 1]`, but in our case we will predict `[1, 1, 1, 1]`. For more details, please check out [Lex's kernel](https://www.kaggle.com/lextoumbourou/blindness-detection-resnet34-ordinal-targets)."
   ]
  },
  {
   "cell_type": "code",
   "execution_count": 10,
   "metadata": {
    "ExecuteTime": {
     "end_time": "2019-07-13T06:06:13.948465Z",
     "start_time": "2019-07-13T06:06:13.937428Z"
    }
   },
   "outputs": [
    {
     "name": "stdout",
     "output_type": "stream",
     "text": [
      "Original y_train: [1805  370  999  193  295]\n",
      "Multilabel version: [3662 1857 1487  488  295]\n"
     ]
    }
   ],
   "source": [
    "y_train_multi = np.empty(y_train.shape, dtype=y_train.dtype)\n",
    "y_train_multi[:, 4] = y_train[:, 4]\n",
    "\n",
    "for i in range(3, -1, -1):\n",
    "    y_train_multi[:, i] = np.logical_or(y_train[:, i], y_train_multi[:, i+1])\n",
    "\n",
    "print(\"Original y_train:\", y_train.sum(axis=0))\n",
    "print(\"Multilabel version:\", y_train_multi.sum(axis=0))"
   ]
  },
  {
   "cell_type": "code",
   "execution_count": 11,
   "metadata": {
    "ExecuteTime": {
     "end_time": "2019-07-13T06:06:13.958507Z",
     "start_time": "2019-07-13T06:06:13.949312Z"
    }
   },
   "outputs": [
    {
     "data": {
      "text/plain": [
       "((3662, 224, 224, 3), (3662, 5))"
      ]
     },
     "execution_count": 11,
     "metadata": {},
     "output_type": "execute_result"
    }
   ],
   "source": [
    "x_train.shape, y_train_multi.shape"
   ]
  },
  {
   "cell_type": "code",
   "execution_count": 12,
   "metadata": {
    "ExecuteTime": {
     "end_time": "2019-07-13T06:06:14.141165Z",
     "start_time": "2019-07-13T06:06:13.959637Z"
    }
   },
   "outputs": [],
   "source": [
    "x_train, x_val, y_train, y_val = train_test_split(\n",
    "    x_train, y_train_multi, \n",
    "    test_size=0.15, \n",
    "    random_state=2019\n",
    ")"
   ]
  },
  {
   "cell_type": "markdown",
   "metadata": {},
   "source": [
    "# Mixup & Data Generator"
   ]
  },
  {
   "cell_type": "code",
   "execution_count": 13,
   "metadata": {
    "ExecuteTime": {
     "end_time": "2019-07-13T06:06:14.150383Z",
     "start_time": "2019-07-13T06:06:14.142292Z"
    }
   },
   "outputs": [],
   "source": [
    "class MixupGenerator():\n",
    "    def __init__(self, X_train, y_train, batch_size=32, alpha=0.2, shuffle=True, datagen=None):\n",
    "        self.X_train = X_train\n",
    "        self.y_train = y_train\n",
    "        self.batch_size = batch_size\n",
    "        self.alpha = alpha\n",
    "        self.shuffle = shuffle\n",
    "        self.sample_num = len(X_train)\n",
    "        self.datagen = datagen\n",
    "\n",
    "    def __call__(self):\n",
    "        while True:\n",
    "            indexes = self.__get_exploration_order()\n",
    "            itr_num = int(len(indexes) // (self.batch_size * 2))\n",
    "\n",
    "            for i in range(itr_num):\n",
    "                batch_ids = indexes[i * self.batch_size * 2:(i + 1) * self.batch_size * 2]\n",
    "                X, y = self.__data_generation(batch_ids)\n",
    "\n",
    "                yield X, y\n",
    "\n",
    "    def __get_exploration_order(self):\n",
    "        indexes = np.arange(self.sample_num)\n",
    "\n",
    "        if self.shuffle:\n",
    "            np.random.shuffle(indexes)\n",
    "\n",
    "        return indexes\n",
    "\n",
    "    def __data_generation(self, batch_ids):\n",
    "        _, h, w, c = self.X_train.shape\n",
    "        l = np.random.beta(self.alpha, self.alpha, self.batch_size)\n",
    "        X_l = l.reshape(self.batch_size, 1, 1, 1)\n",
    "        y_l = l.reshape(self.batch_size, 1)\n",
    "\n",
    "        X1 = self.X_train[batch_ids[:self.batch_size]]\n",
    "        X2 = self.X_train[batch_ids[self.batch_size:]]\n",
    "        X = X1 * X_l + X2 * (1 - X_l)\n",
    "\n",
    "        if self.datagen:\n",
    "            for i in range(self.batch_size):\n",
    "                X[i] = self.datagen.random_transform(X[i])\n",
    "                X[i] = self.datagen.standardize(X[i])\n",
    "\n",
    "        if isinstance(self.y_train, list):\n",
    "            y = []\n",
    "\n",
    "            for y_train_ in self.y_train:\n",
    "                y1 = y_train_[batch_ids[:self.batch_size]]\n",
    "                y2 = y_train_[batch_ids[self.batch_size:]]\n",
    "                y.append(y1 * y_l + y2 * (1 - y_l))\n",
    "        else:\n",
    "            y1 = self.y_train[batch_ids[:self.batch_size]]\n",
    "            y2 = self.y_train[batch_ids[self.batch_size:]]\n",
    "            y = y1 * y_l + y2 * (1 - y_l)\n",
    "\n",
    "        return X, y"
   ]
  },
  {
   "cell_type": "code",
   "execution_count": 14,
   "metadata": {
    "ExecuteTime": {
     "end_time": "2019-07-13T06:06:14.640689Z",
     "start_time": "2019-07-13T06:06:14.151425Z"
    }
   },
   "outputs": [],
   "source": [
    "BATCH_SIZE = 32\n",
    "\n",
    "def create_datagen():\n",
    "    return ImageDataGenerator(\n",
    "        zoom_range=0.15,  # set range for random zoom\n",
    "        # set mode for filling points outside the input boundaries\n",
    "        fill_mode='constant',\n",
    "        cval=0.,  # value used for fill_mode = \"constant\"\n",
    "        horizontal_flip=True,  # randomly flip images\n",
    "        vertical_flip=True,  # randomly flip images\n",
    "    )\n",
    "\n",
    "# Using original generator\n",
    "data_generator = create_datagen().flow(x_train, y_train, batch_size=BATCH_SIZE)\n",
    "# Using Mixup\n",
    "mixup_generator = MixupGenerator(x_train, y_train, batch_size=BATCH_SIZE, alpha=0.2, datagen=create_datagen())()"
   ]
  },
  {
   "cell_type": "markdown",
   "metadata": {},
   "source": [
    "### Creating keras callback for QWK"
   ]
  },
  {
   "cell_type": "code",
   "execution_count": 15,
   "metadata": {
    "ExecuteTime": {
     "end_time": "2019-07-13T06:06:14.647104Z",
     "start_time": "2019-07-13T06:06:14.641767Z"
    }
   },
   "outputs": [],
   "source": [
    "class Metrics(Callback):\n",
    "    def on_train_begin(self, logs={}):\n",
    "        self.val_kappas = []\n",
    "\n",
    "    def on_epoch_end(self, epoch, logs={}):\n",
    "        X_val, y_val = self.validation_data[:2]\n",
    "        y_val = y_val.sum(axis=1) - 1\n",
    "        \n",
    "        y_pred = self.model.predict(X_val) > 0.5 # <<<<<<<<<<<<<<<<<<<\n",
    "        y_pred = y_pred.astype(int).sum(axis=1) - 1\n",
    "\n",
    "        _val_kappa = cohen_kappa_score(\n",
    "            y_val,\n",
    "            y_pred, \n",
    "            weights='quadratic'\n",
    "        )\n",
    "\n",
    "        self.val_kappas.append(_val_kappa)\n",
    "\n",
    "        print(f\"val_kappa: {_val_kappa:.4f}\")\n",
    "        \n",
    "        if _val_kappa == max(self.val_kappas):\n",
    "            print(\"Validation Kappa has improved. Saving model.\")\n",
    "            self.model.save('model.h5')\n",
    "\n",
    "        return"
   ]
  },
  {
   "cell_type": "markdown",
   "metadata": {},
   "source": [
    "# Model: DenseNet-121"
   ]
  },
  {
   "cell_type": "code",
   "execution_count": 16,
   "metadata": {
    "ExecuteTime": {
     "end_time": "2019-07-13T06:06:18.824439Z",
     "start_time": "2019-07-13T06:06:14.648115Z"
    }
   },
   "outputs": [
    {
     "name": "stdout",
     "output_type": "stream",
     "text": [
      "WARNING:tensorflow:From /home/ags/miniconda3/envs/ML/lib/python3.7/site-packages/tensorflow/python/framework/op_def_library.py:263: colocate_with (from tensorflow.python.framework.ops) is deprecated and will be removed in a future version.\n",
      "Instructions for updating:\n",
      "Colocations handled automatically by placer.\n"
     ]
    }
   ],
   "source": [
    "xception = Xception(\n",
    "    include_top=False,\n",
    "   input_shape=(224, 224, 3)\n",
    ") "
   ]
  },
  {
   "cell_type": "code",
   "execution_count": 17,
   "metadata": {
    "ExecuteTime": {
     "end_time": "2019-07-13T06:06:18.826796Z",
     "start_time": "2019-07-13T06:06:18.825397Z"
    }
   },
   "outputs": [],
   "source": [
    "# densenet = DenseNet121(\n",
    "#     include_top=False,\n",
    "#     input_shape=(224,224,3)\n",
    "# )"
   ]
  },
  {
   "cell_type": "code",
   "execution_count": null,
   "metadata": {},
   "outputs": [],
   "source": [
    "# First define the image model\n",
    "image_processor = Sequential()\n",
    "image_processor.add(DenseNet121)\n",
    "model.add(layers.GlobalAveragePooling2D())\n",
    "image_processor.add(Flatten())\n",
    "model.add(layers.Dropout(0.5))\n",
    "\n",
    "\n",
    "# Now we create the metadata model\n",
    "metadata_processor = Sequential()\n",
    "metadata_processor.add(Dense(10, input_dim=metadata_dim))\n",
    "metadata_processor.add(Activation('relu'))\n",
    "metadata_processor.add(Dense(10))\n",
    "metadata_processor.add(Activation('relu'))\n",
    "\n",
    "# Now we concatenate the two features and add a few more layers on top\n",
    "model = Sequential()\n",
    "model.add(Merge([image_processor, metadata_processor], merge_mode='concat')  # Merge is your sensor fusion buddy\n",
    "model.add(Dense(5, input_dim=image_plus_metadata_dim, activation=\"sigmoid\"))"
   ]
  },
  {
   "cell_type": "code",
   "execution_count": 18,
   "metadata": {
    "ExecuteTime": {
     "end_time": "2019-07-13T06:06:18.837844Z",
     "start_time": "2019-07-13T06:06:18.828158Z"
    }
   },
   "outputs": [],
   "source": [
    "def build_model():\n",
    "    model = Sequential()\n",
    "    #model.add(densenet)\n",
    "    model.add(xception)\n",
    "    model.add(layers.GlobalAveragePooling2D())\n",
    "    model.add(layers.Dropout(0.5))\n",
    "    model.add(layers.Dense(5, activation='sigmoid'))\n",
    "    \n",
    "    model.compile(\n",
    "        loss='binary_crossentropy',\n",
    "        optimizer=Adam(lr=0.00005),\n",
    "        metrics=['accuracy']\n",
    "    )\n",
    "    \n",
    "    return model"
   ]
  },
  {
   "cell_type": "code",
   "execution_count": 19,
   "metadata": {
    "ExecuteTime": {
     "end_time": "2019-07-13T06:06:18.848601Z",
     "start_time": "2019-07-13T06:06:18.838926Z"
    }
   },
   "outputs": [],
   "source": [
    "#del model"
   ]
  },
  {
   "cell_type": "code",
   "execution_count": 20,
   "metadata": {
    "ExecuteTime": {
     "end_time": "2019-07-13T06:06:20.854139Z",
     "start_time": "2019-07-13T06:06:18.849751Z"
    }
   },
   "outputs": [
    {
     "name": "stdout",
     "output_type": "stream",
     "text": [
      "WARNING:tensorflow:From /home/ags/miniconda3/envs/ML/lib/python3.7/site-packages/keras/backend/tensorflow_backend.py:3445: calling dropout (from tensorflow.python.ops.nn_ops) with keep_prob is deprecated and will be removed in a future version.\n",
      "Instructions for updating:\n",
      "Please use `rate` instead of `keep_prob`. Rate should be set to `rate = 1 - keep_prob`.\n",
      "_________________________________________________________________\n",
      "Layer (type)                 Output Shape              Param #   \n",
      "=================================================================\n",
      "xception (Model)             (None, 7, 7, 2048)        20861480  \n",
      "_________________________________________________________________\n",
      "global_average_pooling2d_1 ( (None, 2048)              0         \n",
      "_________________________________________________________________\n",
      "dropout_1 (Dropout)          (None, 2048)              0         \n",
      "_________________________________________________________________\n",
      "dense_1 (Dense)              (None, 5)                 10245     \n",
      "=================================================================\n",
      "Total params: 20,871,725\n",
      "Trainable params: 20,817,197\n",
      "Non-trainable params: 54,528\n",
      "_________________________________________________________________\n"
     ]
    }
   ],
   "source": [
    "model = build_model()\n",
    "model.summary()"
   ]
  },
  {
   "cell_type": "markdown",
   "metadata": {},
   "source": [
    "# Training & Evaluation"
   ]
  },
  {
   "cell_type": "code",
   "execution_count": 50,
   "metadata": {
    "ExecuteTime": {
     "end_time": "2019-07-13T07:11:00.616989Z",
     "start_time": "2019-07-13T07:03:50.070164Z"
    }
   },
   "outputs": [
    {
     "name": "stdout",
     "output_type": "stream",
     "text": [
      "Epoch 1/10\n",
      "98/97 [==============================] - 41s 417ms/step - loss: 0.0788 - acc: 0.9695 - val_loss: 0.1517 - val_acc: 0.9527\n",
      "val_kappa: 0.8636\n",
      "Validation Kappa has improved. Saving model.\n",
      "Epoch 2/10\n",
      "98/97 [==============================] - 41s 418ms/step - loss: 0.0728 - acc: 0.9714 - val_loss: 0.1482 - val_acc: 0.9484\n",
      "val_kappa: 0.8646\n",
      "Validation Kappa has improved. Saving model.\n",
      "Epoch 3/10\n",
      "98/97 [==============================] - 41s 419ms/step - loss: 0.0617 - acc: 0.9768 - val_loss: 0.1702 - val_acc: 0.9476\n",
      "val_kappa: 0.8507\n",
      "Epoch 4/10\n",
      "98/97 [==============================] - 41s 420ms/step - loss: 0.0651 - acc: 0.9755 - val_loss: 0.1462 - val_acc: 0.9440\n",
      "val_kappa: 0.8577\n",
      "Epoch 5/10\n",
      "98/97 [==============================] - 41s 420ms/step - loss: 0.0587 - acc: 0.9795 - val_loss: 0.1636 - val_acc: 0.9473\n",
      "val_kappa: 0.8619\n",
      "Epoch 6/10\n",
      "98/97 [==============================] - 41s 421ms/step - loss: 0.0517 - acc: 0.9800 - val_loss: 0.1628 - val_acc: 0.9451\n",
      "val_kappa: 0.8604\n",
      "Epoch 7/10\n",
      "98/97 [==============================] - 41s 421ms/step - loss: 0.0491 - acc: 0.9823 - val_loss: 0.1675 - val_acc: 0.9516\n",
      "val_kappa: 0.8712\n",
      "Validation Kappa has improved. Saving model.\n",
      "Epoch 8/10\n",
      "98/97 [==============================] - 41s 421ms/step - loss: 0.0404 - acc: 0.9864 - val_loss: 0.1848 - val_acc: 0.9476\n",
      "val_kappa: 0.8501\n",
      "Epoch 9/10\n",
      "98/97 [==============================] - 41s 421ms/step - loss: 0.0403 - acc: 0.9853 - val_loss: 0.2058 - val_acc: 0.9455\n",
      "val_kappa: 0.8471\n",
      "Epoch 10/10\n",
      "98/97 [==============================] - 41s 421ms/step - loss: 0.0377 - acc: 0.9855 - val_loss: 0.2091 - val_acc: 0.9436\n",
      "val_kappa: 0.8497\n"
     ]
    }
   ],
   "source": [
    "kappa_metrics = Metrics()\n",
    "\n",
    "history = model.fit_generator(\n",
    "    data_generator,\n",
    "    steps_per_epoch=x_train.shape[0] / BATCH_SIZE,\n",
    "    epochs=10,\n",
    "    validation_data=(x_val, y_val),\n",
    "    callbacks=[kappa_metrics]\n",
    ")"
   ]
  },
  {
   "cell_type": "code",
   "execution_count": 22,
   "metadata": {
    "ExecuteTime": {
     "end_time": "2019-07-13T06:13:52.197561Z",
     "start_time": "2019-07-13T06:13:52.195270Z"
    }
   },
   "outputs": [],
   "source": [
    "with open('xception_history.json', 'w') as f:\n",
    "    json.dump(history.history, f)"
   ]
  },
  {
   "cell_type": "code",
   "execution_count": 51,
   "metadata": {
    "ExecuteTime": {
     "end_time": "2019-07-13T07:33:14.988307Z",
     "start_time": "2019-07-13T07:33:14.731641Z"
    }
   },
   "outputs": [
    {
     "data": {
      "text/plain": [
       "<matplotlib.axes._subplots.AxesSubplot at 0x7fd6c4829160>"
      ]
     },
     "execution_count": 51,
     "metadata": {},
     "output_type": "execute_result"
    },
    {
     "data": {
      "image/png": "[encoded data removed]",
      "text/plain": [
       "<Figure size 432x288 with 1 Axes>"
      ]
     },
     "metadata": {
      "needs_background": "light"
     },
     "output_type": "display_data"
    },
    {
     "data": {
      "image/png": "[encoded data removed]",
      "text/plain": [
       "<Figure size 432x288 with 1 Axes>"
      ]
     },
     "metadata": {
      "needs_background": "light"
     },
     "output_type": "display_data"
    }
   ],
   "source": [
    "\n",
    "history_df = pd.DataFrame(history.history)\n",
    "history_df[['loss', 'val_loss']].plot()\n",
    "history_df[['acc', 'val_acc']].plot()"
   ]
  },
  {
   "cell_type": "code",
   "execution_count": 30,
   "metadata": {
    "ExecuteTime": {
     "end_time": "2019-07-13T06:17:16.224351Z",
     "start_time": "2019-07-13T06:17:15.976324Z"
    }
   },
   "outputs": [
    {
     "data": {
      "text/plain": [
       "<matplotlib.axes._subplots.AxesSubplot at 0x7fd7c1db54e0>"
      ]
     },
     "execution_count": 30,
     "metadata": {},
     "output_type": "execute_result"
    },
    {
     "data": {
      "image/png": "[encoded data removed]",
      "text/plain": [
       "<Figure size 432x288 with 1 Axes>"
      ]
     },
     "metadata": {
      "needs_background": "light"
     },
     "output_type": "display_data"
    },
    {
     "data": {
      "image/png": "[encoded data removed]",
      "text/plain": [
       "<Figure size 432x288 with 1 Axes>"
      ]
     },
     "metadata": {
      "needs_background": "light"
     },
     "output_type": "display_data"
    }
   ],
   "source": [
    "history_df = pd.DataFrame(history.history)\n",
    "history_df[['loss', 'val_loss']].plot()\n",
    "history_df[['acc', 'val_acc']].plot()"
   ]
  },
  {
   "cell_type": "code",
   "execution_count": 31,
   "metadata": {
    "ExecuteTime": {
     "end_time": "2019-07-13T06:17:18.596304Z",
     "start_time": "2019-07-13T06:17:18.495656Z"
    }
   },
   "outputs": [
    {
     "data": {
      "text/plain": [
       "[<matplotlib.lines.Line2D at 0x7fd7c1ceac88>]"
      ]
     },
     "execution_count": 31,
     "metadata": {},
     "output_type": "execute_result"
    },
    {
     "data": {
      "image/png": "[encoded data removed]",
      "text/plain": [
       "<Figure size 432x288 with 1 Axes>"
      ]
     },
     "metadata": {
      "needs_background": "light"
     },
     "output_type": "display_data"
    }
   ],
   "source": [
    "plt.plot(kappa_metrics.val_kappas)"
   ]
  },
  {
   "cell_type": "markdown",
   "metadata": {},
   "source": [
    "# LOAD test set with  bengrahm preprocessing ffs, before final prediction "
   ]
  },
  {
   "cell_type": "code",
   "execution_count": 32,
   "metadata": {
    "ExecuteTime": {
     "end_time": "2019-07-13T06:17:26.461911Z",
     "start_time": "2019-07-13T06:17:24.750052Z"
    }
   },
   "outputs": [
    {
     "data": {
      "text/plain": [
       "0.475"
      ]
     },
     "execution_count": 32,
     "metadata": {},
     "output_type": "execute_result"
    }
   ],
   "source": [
    "#model.load_weights('model_bengrahm.h5')\n",
    "y_val_pred = model.predict(x_val)\n",
    "\n",
    "def compute_score_inv(threshold):\n",
    "    y1 = y_val_pred > threshold\n",
    "    y1 = y1.astype(int).sum(axis=1) - 1\n",
    "    y2 = y_val.sum(axis=1) - 1\n",
    "    score = cohen_kappa_score(y1, y2, weights='quadratic')\n",
    "    \n",
    "    return 1 - score\n",
    "\n",
    "simplex = scipy.optimize.minimize(\n",
    "    compute_score_inv, 0.5, method='nelder-mead'\n",
    ")\n",
    "\n",
    "best_threshold = simplex['x'][0]\n",
    "best_threshold"
   ]
  },
  {
   "cell_type": "code",
   "execution_count": 33,
   "metadata": {
    "ExecuteTime": {
     "end_time": "2019-07-13T06:17:27.445904Z",
     "start_time": "2019-07-13T06:17:27.438840Z"
    }
   },
   "outputs": [
    {
     "data": {
      "text/plain": [
       "0.475"
      ]
     },
     "execution_count": 33,
     "metadata": {},
     "output_type": "execute_result"
    }
   ],
   "source": [
    "#best_threshold = 0.45\n",
    "best_threshold"
   ]
  },
  {
   "cell_type": "markdown",
   "metadata": {},
   "source": [
    "## Submit"
   ]
  },
  {
   "cell_type": "code",
   "execution_count": 49,
   "metadata": {
    "ExecuteTime": {
     "end_time": "2019-07-13T06:38:45.078801Z",
     "start_time": "2019-07-13T06:38:05.321074Z"
    }
   },
   "outputs": [
    {
     "name": "stdout",
     "output_type": "stream",
     "text": [
      "0.25 (array([0, 1, 2, 3, 4]), array([ 289,  123, 1012,  411,   93]))\n",
      "0.3 (array([0, 1, 2, 3, 4]), array([ 307,  127, 1032,  392,   70]))\n",
      "0.35 (array([0, 1, 2, 3, 4]), array([ 323,  133, 1053,  362,   57]))\n",
      "0.4 (array([0, 1, 2, 3, 4]), array([ 339,  145, 1079,  316,   49]))\n",
      "0.45 (array([0, 1, 2, 3, 4]), array([ 351,  152, 1090,  294,   41]))\n",
      "0.5 (array([0, 1, 2, 3, 4]), array([ 363,  153, 1117,  260,   35]))\n",
      "0.55 (array([0, 1, 2, 3, 4]), array([ 373,  161, 1126,  240,   28]))\n"
     ]
    }
   ],
   "source": [
    "for th in [0.25, 0.3, 0.35, 0.4, 0.45, 0.5, 0.55]: \n",
    "    y_test = model.predict(x_test) > th\n",
    "    y_test = y_test.astype(int).sum(axis=1) - 1\n",
    "    print(th, np.unique(y_test, return_counts=True))\n",
    "# test_df['diagnosis'] = y_test\n",
    "# test_df.to_csv('submission.csv',index=False)\n"
   ]
  },
  {
   "cell_type": "code",
   "execution_count": 43,
   "metadata": {
    "ExecuteTime": {
     "end_time": "2019-07-13T06:30:34.468552Z",
     "start_time": "2019-07-13T06:30:34.465230Z"
    }
   },
   "outputs": [
    {
     "data": {
      "text/plain": [
       "(array([-1]), array([1928]))"
      ]
     },
     "execution_count": 43,
     "metadata": {},
     "output_type": "execute_result"
    }
   ],
   "source": [
    "np.unique(y_test, return_counts=True)"
   ]
  },
  {
   "cell_type": "code",
   "execution_count": 39,
   "metadata": {
    "ExecuteTime": {
     "end_time": "2019-07-13T06:24:05.687519Z",
     "start_time": "2019-07-13T06:24:05.684538Z"
    }
   },
   "outputs": [
    {
     "data": {
      "text/plain": [
       "(array([0, 1, 2, 3, 4]), array([ 307,  127, 1032,  392,   70]))"
      ]
     },
     "execution_count": 39,
     "metadata": {},
     "output_type": "execute_result"
    }
   ],
   "source": [
    "np.unique(y_test, return_counts=True)"
   ]
  },
  {
   "cell_type": "code",
   "execution_count": null,
   "metadata": {},
   "outputs": [],
   "source": []
  }
 ],
 "metadata": {
  "kernelspec": {
   "display_name": "ML",
   "language": "python",
   "name": "ml"
  },
  "language_info": {
   "codemirror_mode": {
    "name": "ipython",
    "version": 3
   },
   "file_extension": ".py",
   "mimetype": "text/x-python",
   "name": "python",
   "nbconvert_exporter": "python",
   "pygments_lexer": "ipython3",
   "version": "3.7.3"
  }
 },
 "nbformat": 4,
 "nbformat_minor": 1
}
