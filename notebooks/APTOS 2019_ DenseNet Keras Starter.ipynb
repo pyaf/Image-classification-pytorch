{
 "cells": [
  {
   "cell_type": "markdown",
   "metadata": {},
   "source": [
    "In this kernel, we will explore the complete workflow for the APTOS 2019 competition. We will go through:\n",
    "\n",
    "1. Loading & Exploration: A quick overview of the dataset\n",
    "2. Resize Images: We will resize both the training and test images to 224x224, so that it matches the ImageNet format.\n",
    "3. Mixup & Data Generator: We show how to create a data generator that will perform random transformation to our datasets (flip vertically/horizontally, rotation, zooming). This will help our model generalize better to the data, since it is fairly small (only ~3000 images).\n",
    "4. Quadratic Weighted Kappa: A thorough overview of the metric used for this competition, with an intuitive example. Check it out!\n",
    "5. Model: We will use a DenseNet-121 pre-trained on ImageNet. We will finetune it using Adam for 15 epochs, and evaluate it on an unseen validation set.\n",
    "6. Training & Evaluation: We take a look at the change in loss and QWK score through the epochs.\n",
    "\n",
    "### Citations & Resources\n",
    "\n",
    "* I had the idea of using mixup from [KeepLearning's ResNet50 baseline](https://www.kaggle.com/mathormad/aptos-resnet50-baseline). Since the implementation was in PyTorch, I instead used an [open-sourced keras implementation](https://github.com/yu4u/mixup-generator).\n",
    "* The transfer learning procedure is mostly inspired from my [previous kernel for iWildCam](https://www.kaggle.com/xhlulu/densenet-transfer-learning-iwildcam-2019). The workflow was however heavily modified since then.\n",
    "* Used similar [method as Abhishek](https://www.kaggle.com/abhishek/optimizer-for-quadratic-weighted-kappa) to find the optimal threshold.\n",
    "* [Lex's kernel](https://www.kaggle.com/lextoumbourou/blindness-detection-resnet34-ordinal-targets) prompted me to try using Multilabel instead of multiclass classification, which slightly improved the kappa score."
   ]
  },
  {
   "cell_type": "code",
   "execution_count": 1,
   "metadata": {
    "ExecuteTime": {
     "end_time": "2019-07-12T17:29:25.231217Z",
     "start_time": "2019-07-12T17:29:24.039032Z"
    },
    "_cell_guid": "b1076dfc-b9ad-4769-8c92-a6c4dae69d19",
    "_uuid": "8f2839f25d086af736a60e9eeb907d3b93b6e0e5"
   },
   "outputs": [
    {
     "name": "stderr",
     "output_type": "stream",
     "text": [
      "Using TensorFlow backend.\n"
     ]
    }
   ],
   "source": [
    "import json\n",
    "import math\n",
    "import os\n",
    "\n",
    "import cv2\n",
    "from PIL import Image\n",
    "import numpy as np\n",
    "import tensorflow as tf\n",
    "\n",
    "config = tf.ConfigProto()\n",
    "config.gpu_options.allow_growth=True\n",
    "sess = tf.Session(config=config)\n",
    "\n",
    "from keras import layers\n",
    "from keras.applications import DenseNet121\n",
    "from keras.callbacks import Callback, ModelCheckpoint\n",
    "from keras.preprocessing.image import ImageDataGenerator\n",
    "from keras.models import Sequential\n",
    "from keras.optimizers import Adam\n",
    "import matplotlib.pyplot as plt\n",
    "import pandas as pd\n",
    "from sklearn.model_selection import train_test_split\n",
    "from sklearn.metrics import cohen_kappa_score, accuracy_score\n",
    "import scipy\n",
    "from tqdm import tqdm\n",
    "import warnings\n",
    "warnings.filterwarnings(\"ignore\")\n",
    "\n",
    "\n",
    "%matplotlib inline"
   ]
  },
  {
   "cell_type": "markdown",
   "metadata": {},
   "source": [
    "# Loading & Exploration"
   ]
  },
  {
   "cell_type": "code",
   "execution_count": 2,
   "metadata": {
    "ExecuteTime": {
     "end_time": "2019-07-12T17:29:25.240124Z",
     "start_time": "2019-07-12T17:29:25.232393Z"
    }
   },
   "outputs": [
    {
     "name": "stdout",
     "output_type": "stream",
     "text": [
      "(3662, 2)\n",
      "(1928, 1)\n"
     ]
    }
   ],
   "source": [
    "train_df = pd.read_csv('../data/train.csv')\n",
    "test_df = pd.read_csv('../data/test.csv')\n",
    "print(train_df.shape)\n",
    "print(test_df.shape)"
   ]
  },
  {
   "cell_type": "code",
   "execution_count": 3,
   "metadata": {
    "ExecuteTime": {
     "end_time": "2019-07-12T17:29:25.247443Z",
     "start_time": "2019-07-12T17:29:25.241312Z"
    }
   },
   "outputs": [],
   "source": [
    "def preprocess_image(image_path, desired_size=224):\n",
    "    im = Image.open(image_path)\n",
    "    im = im.resize((desired_size, )*2, resample=Image.LANCZOS)\n",
    "    return im"
   ]
  },
  {
   "cell_type": "code",
   "execution_count": 56,
   "metadata": {
    "ExecuteTime": {
     "end_time": "2019-07-12T19:51:16.448345Z",
     "start_time": "2019-07-12T19:51:16.429103Z"
    }
   },
   "outputs": [],
   "source": [
    "def load_ben_color(path, size, sigmaX=10 ):\n",
    "    image = cv2.imread(path)\n",
    "    image = cv2.cvtColor(image, cv2.COLOR_BGR2RGB)\n",
    "    #image = crop_image_from_gray(image)\n",
    "    image = cv2.resize(image, (size, size))\n",
    "    image = cv2.addWeighted ( image,4, cv2.GaussianBlur( image , (0,0) , sigmaX) ,-4 ,128)\n",
    "    return image\n",
    "\n",
    "def load_ben_gray(path, size):\n",
    "    image = cv2.imread(path)\n",
    "    image = cv2.cvtColor(image, cv2.COLOR_BGR2GRAY)\n",
    "    image = cv2.resize(image, (size, size))\n",
    "    image = cv2.addWeighted(\n",
    "       image, 4, cv2.GaussianBlur(image, (0, 0), size / 10), -4, 128\n",
    "    )  # Ben Graham's preprocessing method [1]\n",
    "    ## (IMG_SIZE, IMG_SIZE) -> (IMG_SIZE, IMG_SIZE, 3)\n",
    "    image = image.reshape(size, size, 1)\n",
    "    image = np.repeat(image, 3, axis=-1)\n",
    "    return image\n",
    "\n",
    "def crop_image_from_gray(img,tol=7):\n",
    "    if img.ndim ==2:\n",
    "        mask = img>tol\n",
    "        return img[np.ix_(mask.any(1),mask.any(0))]\n",
    "    elif img.ndim==3:\n",
    "        gray_img = cv2.cvtColor(img, cv2.COLOR_RGB2GRAY)\n",
    "        mask = gray_img>tol\n",
    "        check_shape = img[:,:,0][np.ix_(mask.any(1),mask.any(0))].shape[0]\n",
    "        if (check_shape == 0): # image is too dark so that we crop out everything,\n",
    "            return img # return original image\n",
    "        else:\n",
    "            img1=img[:,:,0][np.ix_(mask.any(1),mask.any(0))]\n",
    "            img2=img[:,:,1][np.ix_(mask.any(1),mask.any(0))]\n",
    "            img3=img[:,:,2][np.ix_(mask.any(1),mask.any(0))]\n",
    "    #         print(img1.shape,img2.shape,img3.shape)\n",
    "            img = np.stack([img1,img2,img3],axis=-1)\n",
    "    #         print(img.shape)\n",
    "        return img"
   ]
  },
  {
   "cell_type": "code",
   "execution_count": 37,
   "metadata": {
    "ExecuteTime": {
     "end_time": "2019-07-12T19:30:41.687321Z",
     "start_time": "2019-07-12T19:30:36.571172Z"
    }
   },
   "outputs": [
    {
     "name": "stderr",
     "output_type": "stream",
     "text": [
      "100%|██████████| 3662/3662 [00:05<00:00, 717.39it/s] \n"
     ]
    }
   ],
   "source": [
    "N = train_df.shape[0]\n",
    "x_train = np.empty((N, 224, 224, 3), dtype=np.uint8)\n",
    "\n",
    "for i, image_id in enumerate(tqdm(train_df['id_code'])):\n",
    "    x_train[i, :, :, :] = np.load(\n",
    "        f'../data/train_images/npy_bengrahm/{image_id}.npy'\n",
    "    )"
   ]
  },
  {
   "cell_type": "code",
   "execution_count": 57,
   "metadata": {
    "ExecuteTime": {
     "end_time": "2019-07-12T19:52:32.105060Z",
     "start_time": "2019-07-12T19:51:19.904933Z"
    }
   },
   "outputs": [
    {
     "name": "stderr",
     "output_type": "stream",
     "text": [
      "100%|██████████| 1928/1928 [01:12<00:00, 26.70it/s]\n"
     ]
    }
   ],
   "source": [
    "N = test_df.shape[0]\n",
    "x_test = np.empty((N, 224, 224, 3), dtype=np.uint8)\n",
    "\n",
    "for i, image_id in enumerate(tqdm(test_df['id_code'])):\n",
    "    x_test[i, :, :, :] = load_ben_gray(\n",
    "        f'../data/test_images/{image_id}.png', 224\n",
    "    )"
   ]
  },
  {
   "cell_type": "code",
   "execution_count": 6,
   "metadata": {
    "ExecuteTime": {
     "end_time": "2019-07-12T17:29:25.279004Z",
     "start_time": "2019-07-12T17:29:25.269650Z"
    }
   },
   "outputs": [],
   "source": [
    "#!mkdir ../data/npy_files\n",
    "#np.save('../data/npy_files/x_train.npy', x_train)"
   ]
  },
  {
   "cell_type": "code",
   "execution_count": 38,
   "metadata": {
    "ExecuteTime": {
     "end_time": "2019-07-12T19:30:52.345025Z",
     "start_time": "2019-07-12T19:30:52.342960Z"
    }
   },
   "outputs": [],
   "source": [
    "#x_train = np.load('../data/npy_files/x_train.npy')\n",
    "#x_test = np.load('../data/npy_files/x_test.npy')"
   ]
  },
  {
   "cell_type": "code",
   "execution_count": 39,
   "metadata": {
    "ExecuteTime": {
     "end_time": "2019-07-12T19:30:52.733858Z",
     "start_time": "2019-07-12T19:30:52.729002Z"
    }
   },
   "outputs": [
    {
     "name": "stdout",
     "output_type": "stream",
     "text": [
      "(3662, 224, 224, 3)\n",
      "(3662, 5)\n",
      "(1928, 224, 224, 3)\n"
     ]
    }
   ],
   "source": [
    "y_train = pd.get_dummies(train_df['diagnosis']).values\n",
    "print(x_train.shape)\n",
    "print(y_train.shape)\n",
    "print(x_test.shape)"
   ]
  },
  {
   "cell_type": "markdown",
   "metadata": {},
   "source": [
    "## Creating multilabels\n",
    "\n",
    "Instead of predicting a single label, we will change our target to be a multilabel problem; i.e., if the target is a certain class, then it encompasses all the classes before it. E.g. encoding a class 4 retinopathy would usually be `[0, 0, 0, 1]`, but in our case we will predict `[1, 1, 1, 1]`. For more details, please check out [Lex's kernel](https://www.kaggle.com/lextoumbourou/blindness-detection-resnet34-ordinal-targets)."
   ]
  },
  {
   "cell_type": "code",
   "execution_count": 40,
   "metadata": {
    "ExecuteTime": {
     "end_time": "2019-07-12T19:30:57.379573Z",
     "start_time": "2019-07-12T19:30:57.367343Z"
    }
   },
   "outputs": [
    {
     "name": "stdout",
     "output_type": "stream",
     "text": [
      "Original y_train: [1805  370  999  193  295]\n",
      "Multilabel version: [3662 1857 1487  488  295]\n"
     ]
    }
   ],
   "source": [
    "y_train_multi = np.empty(y_train.shape, dtype=y_train.dtype)\n",
    "y_train_multi[:, 4] = y_train[:, 4]\n",
    "\n",
    "for i in range(3, -1, -1):\n",
    "    y_train_multi[:, i] = np.logical_or(y_train[:, i], y_train_multi[:, i+1])\n",
    "\n",
    "print(\"Original y_train:\", y_train.sum(axis=0))\n",
    "print(\"Multilabel version:\", y_train_multi.sum(axis=0))"
   ]
  },
  {
   "cell_type": "code",
   "execution_count": 41,
   "metadata": {
    "ExecuteTime": {
     "end_time": "2019-07-12T19:30:57.694520Z",
     "start_time": "2019-07-12T19:30:57.689714Z"
    }
   },
   "outputs": [
    {
     "data": {
      "text/plain": [
       "((3662, 224, 224, 3), (3662, 5))"
      ]
     },
     "execution_count": 41,
     "metadata": {},
     "output_type": "execute_result"
    }
   ],
   "source": [
    "x_train.shape, y_train_multi.shape"
   ]
  },
  {
   "cell_type": "code",
   "execution_count": 42,
   "metadata": {
    "ExecuteTime": {
     "end_time": "2019-07-12T19:30:58.273939Z",
     "start_time": "2019-07-12T19:30:58.053019Z"
    }
   },
   "outputs": [],
   "source": [
    "x_train, x_val, y_train, y_val = train_test_split(\n",
    "    x_train, y_train_multi, \n",
    "    test_size=0.15, \n",
    "    random_state=2019\n",
    ")"
   ]
  },
  {
   "cell_type": "markdown",
   "metadata": {},
   "source": [
    "# Mixup & Data Generator"
   ]
  },
  {
   "cell_type": "code",
   "execution_count": 43,
   "metadata": {
    "ExecuteTime": {
     "end_time": "2019-07-12T19:31:00.166267Z",
     "start_time": "2019-07-12T19:31:00.157439Z"
    }
   },
   "outputs": [],
   "source": [
    "class MixupGenerator():\n",
    "    def __init__(self, X_train, y_train, batch_size=32, alpha=0.2, shuffle=True, datagen=None):\n",
    "        self.X_train = X_train\n",
    "        self.y_train = y_train\n",
    "        self.batch_size = batch_size\n",
    "        self.alpha = alpha\n",
    "        self.shuffle = shuffle\n",
    "        self.sample_num = len(X_train)\n",
    "        self.datagen = datagen\n",
    "\n",
    "    def __call__(self):\n",
    "        while True:\n",
    "            indexes = self.__get_exploration_order()\n",
    "            itr_num = int(len(indexes) // (self.batch_size * 2))\n",
    "\n",
    "            for i in range(itr_num):\n",
    "                batch_ids = indexes[i * self.batch_size * 2:(i + 1) * self.batch_size * 2]\n",
    "                X, y = self.__data_generation(batch_ids)\n",
    "\n",
    "                yield X, y\n",
    "\n",
    "    def __get_exploration_order(self):\n",
    "        indexes = np.arange(self.sample_num)\n",
    "\n",
    "        if self.shuffle:\n",
    "            np.random.shuffle(indexes)\n",
    "\n",
    "        return indexes\n",
    "\n",
    "    def __data_generation(self, batch_ids):\n",
    "        _, h, w, c = self.X_train.shape\n",
    "        l = np.random.beta(self.alpha, self.alpha, self.batch_size)\n",
    "        X_l = l.reshape(self.batch_size, 1, 1, 1)\n",
    "        y_l = l.reshape(self.batch_size, 1)\n",
    "\n",
    "        X1 = self.X_train[batch_ids[:self.batch_size]]\n",
    "        X2 = self.X_train[batch_ids[self.batch_size:]]\n",
    "        X = X1 * X_l + X2 * (1 - X_l)\n",
    "\n",
    "        if self.datagen:\n",
    "            for i in range(self.batch_size):\n",
    "                X[i] = self.datagen.random_transform(X[i])\n",
    "                X[i] = self.datagen.standardize(X[i])\n",
    "\n",
    "        if isinstance(self.y_train, list):\n",
    "            y = []\n",
    "\n",
    "            for y_train_ in self.y_train:\n",
    "                y1 = y_train_[batch_ids[:self.batch_size]]\n",
    "                y2 = y_train_[batch_ids[self.batch_size:]]\n",
    "                y.append(y1 * y_l + y2 * (1 - y_l))\n",
    "        else:\n",
    "            y1 = self.y_train[batch_ids[:self.batch_size]]\n",
    "            y2 = self.y_train[batch_ids[self.batch_size:]]\n",
    "            y = y1 * y_l + y2 * (1 - y_l)\n",
    "\n",
    "        return X, y"
   ]
  },
  {
   "cell_type": "code",
   "execution_count": 44,
   "metadata": {
    "ExecuteTime": {
     "end_time": "2019-07-12T19:31:00.919622Z",
     "start_time": "2019-07-12T19:31:00.314921Z"
    }
   },
   "outputs": [],
   "source": [
    "BATCH_SIZE = 32\n",
    "\n",
    "def create_datagen():\n",
    "    return ImageDataGenerator(\n",
    "        zoom_range=0.15,  # set range for random zoom\n",
    "        # set mode for filling points outside the input boundaries\n",
    "        fill_mode='constant',\n",
    "        cval=0.,  # value used for fill_mode = \"constant\"\n",
    "        horizontal_flip=True,  # randomly flip images\n",
    "        vertical_flip=True,  # randomly flip images\n",
    "    )\n",
    "\n",
    "# Using original generator\n",
    "data_generator = create_datagen().flow(x_train, y_train, batch_size=BATCH_SIZE)\n",
    "# Using Mixup\n",
    "mixup_generator = MixupGenerator(x_train, y_train, batch_size=BATCH_SIZE, alpha=0.2, datagen=create_datagen())()"
   ]
  },
  {
   "cell_type": "markdown",
   "metadata": {},
   "source": [
    "### Creating keras callback for QWK"
   ]
  },
  {
   "cell_type": "code",
   "execution_count": 45,
   "metadata": {
    "ExecuteTime": {
     "end_time": "2019-07-12T19:31:00.926412Z",
     "start_time": "2019-07-12T19:31:00.920890Z"
    }
   },
   "outputs": [],
   "source": [
    "class Metrics(Callback):\n",
    "    def on_train_begin(self, logs={}):\n",
    "        self.val_kappas = []\n",
    "\n",
    "    def on_epoch_end(self, epoch, logs={}):\n",
    "        X_val, y_val = self.validation_data[:2]\n",
    "        y_val = y_val.sum(axis=1) - 1\n",
    "        \n",
    "        y_pred = self.model.predict(X_val) > 0.5 # <<<<<<<<<<<<<<<<<<<\n",
    "        y_pred = y_pred.astype(int).sum(axis=1) - 1\n",
    "\n",
    "        _val_kappa = cohen_kappa_score(\n",
    "            y_val,\n",
    "            y_pred, \n",
    "            weights='quadratic'\n",
    "        )\n",
    "\n",
    "        self.val_kappas.append(_val_kappa)\n",
    "\n",
    "        print(f\"val_kappa: {_val_kappa:.4f}\")\n",
    "        \n",
    "        if _val_kappa == max(self.val_kappas):\n",
    "            print(\"Validation Kappa has improved. Saving model.\")\n",
    "            self.model.save('model.h5')\n",
    "\n",
    "        return"
   ]
  },
  {
   "cell_type": "markdown",
   "metadata": {},
   "source": [
    "# Model: DenseNet-121"
   ]
  },
  {
   "cell_type": "code",
   "execution_count": 46,
   "metadata": {
    "ExecuteTime": {
     "end_time": "2019-07-12T19:31:20.816841Z",
     "start_time": "2019-07-12T19:31:01.982864Z"
    }
   },
   "outputs": [],
   "source": [
    "densenet = DenseNet121(\n",
    "    include_top=False,\n",
    "    input_shape=(224,224,3)\n",
    ")"
   ]
  },
  {
   "cell_type": "code",
   "execution_count": 47,
   "metadata": {
    "ExecuteTime": {
     "end_time": "2019-07-12T19:31:20.820948Z",
     "start_time": "2019-07-12T19:31:20.818127Z"
    }
   },
   "outputs": [],
   "source": [
    "def build_model():\n",
    "    model = Sequential()\n",
    "    model.add(densenet)\n",
    "    model.add(layers.GlobalAveragePooling2D())\n",
    "    model.add(layers.Dropout(0.5))\n",
    "    model.add(layers.Dense(5, activation='sigmoid'))\n",
    "    \n",
    "    model.compile(\n",
    "        loss='binary_crossentropy',\n",
    "        optimizer=Adam(lr=0.00005),\n",
    "        metrics=['accuracy']\n",
    "    )\n",
    "    \n",
    "    return model"
   ]
  },
  {
   "cell_type": "code",
   "execution_count": 48,
   "metadata": {
    "ExecuteTime": {
     "end_time": "2019-07-12T19:31:31.902889Z",
     "start_time": "2019-07-12T19:31:20.822172Z"
    }
   },
   "outputs": [
    {
     "name": "stdout",
     "output_type": "stream",
     "text": [
      "_________________________________________________________________\n",
      "Layer (type)                 Output Shape              Param #   \n",
      "=================================================================\n",
      "densenet121 (Model)          (None, 7, 7, 1024)        7037504   \n",
      "_________________________________________________________________\n",
      "global_average_pooling2d_2 ( (None, 1024)              0         \n",
      "_________________________________________________________________\n",
      "dropout_2 (Dropout)          (None, 1024)              0         \n",
      "_________________________________________________________________\n",
      "dense_2 (Dense)              (None, 5)                 5125      \n",
      "=================================================================\n",
      "Total params: 7,042,629\n",
      "Trainable params: 6,958,981\n",
      "Non-trainable params: 83,648\n",
      "_________________________________________________________________\n"
     ]
    }
   ],
   "source": [
    "model = build_model()\n",
    "model.summary()"
   ]
  },
  {
   "cell_type": "markdown",
   "metadata": {},
   "source": [
    "# Training & Evaluation"
   ]
  },
  {
   "cell_type": "code",
   "execution_count": 49,
   "metadata": {
    "ExecuteTime": {
     "end_time": "2019-07-12T19:46:36.017681Z",
     "start_time": "2019-07-12T19:31:31.904146Z"
    }
   },
   "outputs": [
    {
     "name": "stdout",
     "output_type": "stream",
     "text": [
      "Epoch 1/30\n",
      "98/97 [==============================] - 48s 488ms/step - loss: 0.5036 - acc: 0.7586 - val_loss: 0.3089 - val_acc: 0.8571\n",
      "val_kappa: 0.7732\n",
      "Validation Kappa has improved. Saving model.\n",
      "Epoch 2/30\n",
      "98/97 [==============================] - 27s 278ms/step - loss: 0.2259 - acc: 0.9129 - val_loss: 0.1780 - val_acc: 0.9382\n",
      "val_kappa: 0.8212\n",
      "Validation Kappa has improved. Saving model.\n",
      "Epoch 3/30\n",
      "98/97 [==============================] - 27s 278ms/step - loss: 0.1791 - acc: 0.9290 - val_loss: 0.2102 - val_acc: 0.9207\n",
      "val_kappa: 0.7490\n",
      "Epoch 4/30\n",
      "98/97 [==============================] - 27s 279ms/step - loss: 0.1636 - acc: 0.9372 - val_loss: 0.1744 - val_acc: 0.9320\n",
      "val_kappa: 0.8082\n",
      "Epoch 5/30\n",
      "98/97 [==============================] - 27s 279ms/step - loss: 0.1418 - acc: 0.9444 - val_loss: 0.1268 - val_acc: 0.9513\n",
      "val_kappa: 0.8780\n",
      "Validation Kappa has improved. Saving model.\n",
      "Epoch 6/30\n",
      "98/97 [==============================] - 27s 279ms/step - loss: 0.1375 - acc: 0.9467 - val_loss: 0.1269 - val_acc: 0.9484\n",
      "val_kappa: 0.8516\n",
      "Epoch 7/30\n",
      "98/97 [==============================] - 27s 278ms/step - loss: 0.1265 - acc: 0.9504 - val_loss: 0.1329 - val_acc: 0.9491\n",
      "val_kappa: 0.8486\n",
      "Epoch 8/30\n",
      "98/97 [==============================] - 27s 278ms/step - loss: 0.1248 - acc: 0.9494 - val_loss: 0.1250 - val_acc: 0.9505\n",
      "val_kappa: 0.8530\n",
      "Epoch 9/30\n",
      "98/97 [==============================] - 27s 278ms/step - loss: 0.1119 - acc: 0.9557 - val_loss: 0.1240 - val_acc: 0.9535\n",
      "val_kappa: 0.8785\n",
      "Validation Kappa has improved. Saving model.\n",
      "Epoch 10/30\n",
      "98/97 [==============================] - 27s 279ms/step - loss: 0.1111 - acc: 0.9573 - val_loss: 0.1167 - val_acc: 0.9556\n",
      "val_kappa: 0.8816\n",
      "Validation Kappa has improved. Saving model.\n",
      "Epoch 11/30\n",
      "98/97 [==============================] - 27s 279ms/step - loss: 0.1020 - acc: 0.9585 - val_loss: 0.1207 - val_acc: 0.9542\n",
      "val_kappa: 0.8943\n",
      "Validation Kappa has improved. Saving model.\n",
      "Epoch 12/30\n",
      "98/97 [==============================] - 27s 278ms/step - loss: 0.1023 - acc: 0.9584 - val_loss: 0.1343 - val_acc: 0.9502\n",
      "val_kappa: 0.8744\n",
      "Epoch 13/30\n",
      "98/97 [==============================] - 27s 279ms/step - loss: 0.0958 - acc: 0.9618 - val_loss: 0.1169 - val_acc: 0.9567\n",
      "val_kappa: 0.8826\n",
      "Epoch 14/30\n",
      "98/97 [==============================] - 27s 279ms/step - loss: 0.0875 - acc: 0.9656 - val_loss: 0.1595 - val_acc: 0.9462\n",
      "val_kappa: 0.8405\n",
      "Epoch 15/30\n",
      "98/97 [==============================] - 27s 279ms/step - loss: 0.0874 - acc: 0.9671 - val_loss: 0.1667 - val_acc: 0.9404\n",
      "val_kappa: 0.8126\n",
      "Epoch 16/30\n",
      "98/97 [==============================] - 27s 278ms/step - loss: 0.0779 - acc: 0.9700 - val_loss: 0.2016 - val_acc: 0.9378\n",
      "val_kappa: 0.8048\n",
      "Epoch 17/30\n",
      "98/97 [==============================] - 27s 279ms/step - loss: 0.0793 - acc: 0.9693 - val_loss: 0.1343 - val_acc: 0.9505\n",
      "val_kappa: 0.8651\n",
      "Epoch 18/30\n",
      "98/97 [==============================] - 27s 279ms/step - loss: 0.0714 - acc: 0.9722 - val_loss: 0.1621 - val_acc: 0.9484\n",
      "val_kappa: 0.8472\n",
      "Epoch 19/30\n",
      "98/97 [==============================] - 27s 278ms/step - loss: 0.0696 - acc: 0.9728 - val_loss: 0.1430 - val_acc: 0.9527\n",
      "val_kappa: 0.8697\n",
      "Epoch 20/30\n",
      "98/97 [==============================] - 27s 279ms/step - loss: 0.0658 - acc: 0.9750 - val_loss: 0.1374 - val_acc: 0.9527\n",
      "val_kappa: 0.8866\n",
      "Epoch 21/30\n",
      "98/97 [==============================] - 27s 279ms/step - loss: 0.0599 - acc: 0.9768 - val_loss: 0.1665 - val_acc: 0.9516\n",
      "val_kappa: 0.8684\n",
      "Epoch 22/30\n",
      "98/97 [==============================] - 27s 278ms/step - loss: 0.0576 - acc: 0.9779 - val_loss: 0.1704 - val_acc: 0.9495\n",
      "val_kappa: 0.8633\n",
      "Epoch 23/30\n",
      "98/97 [==============================] - 27s 277ms/step - loss: 0.0548 - acc: 0.9795 - val_loss: 0.1612 - val_acc: 0.9545\n",
      "val_kappa: 0.8754\n",
      "Epoch 24/30\n",
      "98/97 [==============================] - 27s 278ms/step - loss: 0.0535 - acc: 0.9802 - val_loss: 0.1415 - val_acc: 0.9538\n",
      "val_kappa: 0.8801\n",
      "Epoch 25/30\n",
      "98/97 [==============================] - 27s 277ms/step - loss: 0.0494 - acc: 0.9808 - val_loss: 0.1603 - val_acc: 0.9553\n",
      "val_kappa: 0.8771\n",
      "Epoch 26/30\n",
      "98/97 [==============================] - 27s 278ms/step - loss: 0.0476 - acc: 0.9815 - val_loss: 0.1265 - val_acc: 0.9582\n",
      "val_kappa: 0.8966\n",
      "Validation Kappa has improved. Saving model.\n",
      "Epoch 27/30\n",
      "98/97 [==============================] - 27s 278ms/step - loss: 0.0420 - acc: 0.9862 - val_loss: 0.1606 - val_acc: 0.9556\n",
      "val_kappa: 0.8840\n",
      "Epoch 28/30\n",
      "98/97 [==============================] - 27s 277ms/step - loss: 0.0432 - acc: 0.9843 - val_loss: 0.1985 - val_acc: 0.9509\n",
      "val_kappa: 0.8615\n",
      "Epoch 29/30\n",
      "98/97 [==============================] - 27s 278ms/step - loss: 0.0366 - acc: 0.9862 - val_loss: 0.1824 - val_acc: 0.9524\n",
      "val_kappa: 0.8595\n",
      "Epoch 30/30\n",
      "98/97 [==============================] - 27s 278ms/step - loss: 0.0367 - acc: 0.9868 - val_loss: 0.1507 - val_acc: 0.9538\n",
      "val_kappa: 0.8918\n"
     ]
    }
   ],
   "source": [
    "kappa_metrics = Metrics()\n",
    "\n",
    "history = model.fit_generator(\n",
    "    data_generator,\n",
    "    steps_per_epoch=x_train.shape[0] / BATCH_SIZE,\n",
    "    epochs=30,\n",
    "    validation_data=(x_val, y_val),\n",
    "    callbacks=[kappa_metrics]\n",
    ")"
   ]
  },
  {
   "cell_type": "code",
   "execution_count": 50,
   "metadata": {
    "ExecuteTime": {
     "end_time": "2019-07-12T19:46:36.252159Z",
     "start_time": "2019-07-12T19:46:36.018895Z"
    }
   },
   "outputs": [
    {
     "data": {
      "text/plain": [
       "<matplotlib.axes._subplots.AxesSubplot at 0x7f216683f5c0>"
      ]
     },
     "execution_count": 50,
     "metadata": {},
     "output_type": "execute_result"
    },
    {
     "data": {
      "image/png": "[encoded data removed]",
      "text/plain": [
       "<Figure size 432x288 with 1 Axes>"
      ]
     },
     "metadata": {
      "needs_background": "light"
     },
     "output_type": "display_data"
    },
    {
     "data": {
      "image/png": "[encoded data removed]",
      "text/plain": [
       "<Figure size 432x288 with 1 Axes>"
      ]
     },
     "metadata": {
      "needs_background": "light"
     },
     "output_type": "display_data"
    }
   ],
   "source": [
    "with open('history.json', 'w') as f:\n",
    "    json.dump(history.history, f)\n",
    "\n",
    "history_df = pd.DataFrame(history.history)\n",
    "history_df[['loss', 'val_loss']].plot()\n",
    "history_df[['acc', 'val_acc']].plot()"
   ]
  },
  {
   "cell_type": "code",
   "execution_count": 51,
   "metadata": {
    "ExecuteTime": {
     "end_time": "2019-07-12T19:46:36.366450Z",
     "start_time": "2019-07-12T19:46:36.253171Z"
    }
   },
   "outputs": [
    {
     "data": {
      "text/plain": [
       "[<matplotlib.lines.Line2D at 0x7f216633e9b0>]"
      ]
     },
     "execution_count": 51,
     "metadata": {},
     "output_type": "execute_result"
    },
    {
     "data": {
      "image/png": "[encoded data removed]",
      "text/plain": [
       "<Figure size 432x288 with 1 Axes>"
      ]
     },
     "metadata": {
      "needs_background": "light"
     },
     "output_type": "display_data"
    }
   ],
   "source": [
    "plt.plot(kappa_metrics.val_kappas)"
   ]
  },
  {
   "cell_type": "markdown",
   "metadata": {},
   "source": [
    "# LOAD test set with  bengrahm preprocessing ffs, before final prediction "
   ]
  },
  {
   "cell_type": "code",
   "execution_count": 58,
   "metadata": {
    "ExecuteTime": {
     "end_time": "2019-07-12T19:52:49.605940Z",
     "start_time": "2019-07-12T19:52:44.114239Z"
    }
   },
   "outputs": [],
   "source": [
    "model.load_weights('model_bengrahm.h5')\n",
    "y_val_pred = model.predict(x_val)\n",
    "\n",
    "def compute_score_inv(threshold):\n",
    "    y1 = y_val_pred > threshold\n",
    "    y1 = y1.astype(int).sum(axis=1) - 1\n",
    "    y2 = y_val.sum(axis=1) - 1\n",
    "    score = cohen_kappa_score(y1, y2, weights='quadratic')\n",
    "    \n",
    "    return 1 - score\n",
    "\n",
    "simplex = scipy.optimize.minimize(\n",
    "    compute_score_inv, 0.5, method='nelder-mead'\n",
    ")\n",
    "\n",
    "best_threshold = simplex['x'][0]\n",
    "best_threshold"
   ]
  },
  {
   "cell_type": "code",
   "execution_count": 59,
   "metadata": {
    "ExecuteTime": {
     "end_time": "2019-07-12T19:52:58.478998Z",
     "start_time": "2019-07-12T19:52:58.476451Z"
    }
   },
   "outputs": [
    {
     "data": {
      "text/plain": [
       "0.5"
      ]
     },
     "execution_count": 59,
     "metadata": {},
     "output_type": "execute_result"
    }
   ],
   "source": [
    "#best_threshold = 0.45\n",
    "best_threshold"
   ]
  },
  {
   "cell_type": "markdown",
   "metadata": {},
   "source": [
    "## Submit"
   ]
  },
  {
   "cell_type": "code",
   "execution_count": 64,
   "metadata": {
    "ExecuteTime": {
     "end_time": "2019-07-12T20:00:11.537572Z",
     "start_time": "2019-07-12T20:00:06.595696Z"
    }
   },
   "outputs": [
    {
     "data": {
      "text/plain": [
       "(array([0, 1, 2, 3, 4]), array([ 369,  259, 1068,  168,   64]))"
      ]
     },
     "execution_count": 64,
     "metadata": {},
     "output_type": "execute_result"
    }
   ],
   "source": [
    "y_test = model.predict(x_test) > 0.65\n",
    "y_test = y_test.astype(int).sum(axis=1) - 1\n",
    "\n",
    "np.unique(y_test, return_counts=True)\n",
    "# test_df['diagnosis'] = y_test\n",
    "# test_df.to_csv('submission.csv',index=False)"
   ]
  },
  {
   "cell_type": "code",
   "execution_count": null,
   "metadata": {
    "ExecuteTime": {
     "end_time": "2019-07-12T15:20:22.881652Z",
     "start_time": "2019-07-12T15:20:22.878665Z"
    }
   },
   "outputs": [],
   "source": []
  },
  {
   "cell_type": "code",
   "execution_count": null,
   "metadata": {},
   "outputs": [],
   "source": []
  }
 ],
 "metadata": {
  "kernelspec": {
   "display_name": "ML",
   "language": "python",
   "name": "ml"
  },
  "language_info": {
   "codemirror_mode": {
    "name": "ipython",
    "version": 3
   },
   "file_extension": ".py",
   "mimetype": "text/x-python",
   "name": "python",
   "nbconvert_exporter": "python",
   "pygments_lexer": "ipython3",
   "version": "3.7.3"
  }
 },
 "nbformat": 4,
 "nbformat_minor": 1
}
