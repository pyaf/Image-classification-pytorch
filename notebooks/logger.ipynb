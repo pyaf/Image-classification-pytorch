{
 "cells": [
  {
   "cell_type": "code",
   "execution_count": 13,
   "metadata": {
    "ExecuteTime": {
     "end_time": "2019-07-06T13:04:46.981800Z",
     "start_time": "2019-07-06T13:04:46.963065Z"
    }
   },
   "outputs": [],
   "source": [
    "import pdb\n",
    "from glob import glob\n",
    "import os\n",
    "from tensorboard_logger import * \n",
    "from pycm import *"
   ]
  },
  {
   "cell_type": "code",
   "execution_count": 59,
   "metadata": {
    "ExecuteTime": {
     "end_time": "2019-07-06T13:33:14.073935Z",
     "start_time": "2019-07-06T13:33:14.071116Z"
    }
   },
   "outputs": [],
   "source": [
    "def log_all(name, data_list, logger):\n",
    "    for idx, val in enumerate(data_list):\n",
    "        logger.log_value(name, val, idx)"
   ]
  },
  {
   "cell_type": "code",
   "execution_count": 95,
   "metadata": {
    "ExecuteTime": {
     "end_time": "2019-07-06T13:45:54.741408Z",
     "start_time": "2019-07-06T13:45:54.735115Z"
    }
   },
   "outputs": [],
   "source": [
    "def log_overall(folder_name, phase, log_folder, metrics):\n",
    "    '''\n",
    "    For logging overall stats of train and val cms in seperate folders, so that we can see them on same chart\n",
    "    folder_name: path of the folder where model weights/logs were stored,\n",
    "    phase: train/val\n",
    "    save_folder: place where to log tb files\n",
    "    metrics: (list) metrics to log\n",
    "    '''\n",
    "    cms = {}\n",
    "    cmfiles = glob(os.path.join(folder_name, 'logs/*%s*.obj' % phase))\n",
    "    for i in range(len(cmfiles)):\n",
    "        cms[f\"cm{i}\"] = ConfusionMatrix(file=open(os.path.join(folder_name, f\"logs/cm{phase}_{i}.obj\"),\"r\"))\n",
    "    logger = Logger(os.path.join(log_folder, phase))\n",
    "    overall_stats = {x:[] for x in metrics}\n",
    "    for i in range(len(cmfiles)):\n",
    "        for metric in metrics:\n",
    "            overall_stats[metric].append(cms[\"cm%d\" % i].overall_stat[metric])\n",
    "    for metric in metrics:\n",
    "        metric_name = \"overall \" + metric if metric != \"Overall ACC\" else metric\n",
    "        log_all(metric_name, overall_stats[metric], logger)"
   ]
  },
  {
   "cell_type": "code",
   "execution_count": 96,
   "metadata": {
    "ExecuteTime": {
     "end_time": "2019-07-06T13:45:54.927618Z",
     "start_time": "2019-07-06T13:45:54.919209Z"
    }
   },
   "outputs": [],
   "source": [
    "def log_class_stats(folder_name, phase, class_name, log_folder, metrics):\n",
    "    '''\n",
    "    Stats of each class plotted under each phase\n",
    "    folder_name: path of the folder where model weights/logs were stored,\n",
    "    phase: train/val\n",
    "    save_folder: place where to log tb files\n",
    "    metrics: (list) metrics to log\n",
    "    '''\n",
    "    cms = {}\n",
    "    cmfiles = glob(os.path.join(folder_name, 'logs/*%s*.obj' % phase))\n",
    "    for i in range(len(cmfiles)):\n",
    "        cms[f\"cm{i}\"] = ConfusionMatrix(file=open(os.path.join(folder_name, f\"logs/cm{phase}_{i}.obj\"),\"r\"))\n",
    "    logger = Logger(os.path.join(log_folder, phase, str(class_name)))\n",
    "    class_stats = {x:[] for x in metrics}\n",
    "    for i in range(len(cmfiles)):\n",
    "        for metric in metrics:\n",
    "            value = cms[\"cm%d\" % i].class_stat[metric][class_name]\n",
    "            class_stats[metric].append(value if value is not 'None' else 0)\n",
    "    for metric in metrics:\n",
    "        metric_name = \"class \" + metric\n",
    "        log_all(metric_name, class_stats[metric], logger)"
   ]
  },
  {
   "cell_type": "code",
   "execution_count": null,
   "metadata": {},
   "outputs": [],
   "source": [
    "folder_name = \"weights/5Jul_resnext101_32x4d_fold1\"\n",
    "log_folder = \"weights/logs\""
   ]
  },
  {
   "cell_type": "code",
   "execution_count": 99,
   "metadata": {
    "ExecuteTime": {
     "end_time": "2019-07-06T13:47:00.842933Z",
     "start_time": "2019-07-06T13:47:00.502364Z"
    }
   },
   "outputs": [],
   "source": [
    "overall_metrics = [\"Overall ACC\", \"Kappa\", \"TPR Micro\", \"PPV Micro\", \"F1 Micro\", \"Cross Entropy\", ]\n",
    "log_overall(folder_name, \"val\", log_folder, overall_metrics)\n",
    "log_overall(folder_name, \"train\", log_folder, overall_metrics)"
   ]
  },
  {
   "cell_type": "code",
   "execution_count": 100,
   "metadata": {
    "ExecuteTime": {
     "end_time": "2019-07-06T13:47:02.567024Z",
     "start_time": "2019-07-06T13:47:00.844064Z"
    }
   },
   "outputs": [],
   "source": [
    "class_metrics = [\"TPR\", \"TNR\", \"PPV\", \"NPV\", \"FNR\", \"FPR\", \"ACC\", \"F1\", \"AUC\"]\n",
    "for phase in [\"train\", \"val\"]:\n",
    "    for class_name in range(5):\n",
    "        log_class_stats(folder_name, phase, class_name, log_folder, class_metrics)"
   ]
  },
  {
   "cell_type": "markdown",
   "metadata": {},
   "source": [
    "#### NOTES:\n",
    "* If curve goes to zero, suddenly, they that's a 0 replaced in place of None value"
   ]
  },
  {
   "cell_type": "code",
   "execution_count": null,
   "metadata": {},
   "outputs": [],
   "source": []
  },
  {
   "cell_type": "code",
   "execution_count": null,
   "metadata": {},
   "outputs": [],
   "source": [
    "cm = ConfusionMatrix(file=open('weights/5Jul_resnext101_32x4d_fold1/logs/cmtrain_0.obj'))"
   ]
  },
  {
   "cell_type": "code",
   "execution_count": null,
   "metadata": {},
   "outputs": [],
   "source": []
  },
  {
   "cell_type": "code",
   "execution_count": null,
   "metadata": {},
   "outputs": [],
   "source": []
  },
  {
   "cell_type": "code",
   "execution_count": null,
   "metadata": {},
   "outputs": [],
   "source": []
  },
  {
   "cell_type": "code",
   "execution_count": null,
   "metadata": {},
   "outputs": [],
   "source": []
  }
 ],
 "metadata": {
  "kernelspec": {
   "display_name": "ML",
   "language": "python",
   "name": "ml"
  },
  "language_info": {
   "codemirror_mode": {
    "name": "ipython",
    "version": 3
   },
   "file_extension": ".py",
   "mimetype": "text/x-python",
   "name": "python",
   "nbconvert_exporter": "python",
   "pygments_lexer": "ipython3",
   "version": "3.7.3"
  }
 },
 "nbformat": 4,
 "nbformat_minor": 2
}
